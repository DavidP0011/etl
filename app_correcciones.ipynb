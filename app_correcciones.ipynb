{
  "nbformat": 4,
  "nbformat_minor": 0,
  "metadata": {
    "colab": {
      "provenance": [],
      "include_colab_link": true
    },
    "kernelspec": {
      "name": "python3",
      "display_name": "Python 3"
    },
    "language_info": {
      "name": "python"
    }
  },
  "cells": [
    {
      "cell_type": "markdown",
      "metadata": {
        "id": "view-in-github",
        "colab_type": "text"
      },
      "source": [
        "<a href=\"https://colab.research.google.com/github/DavidP0011/etl/blob/main/app_correcciones.ipynb\" target=\"_parent\"><img src=\"https://colab.research.google.com/assets/colab-badge.svg\" alt=\"Open In Colab\"/></a>"
      ]
    },
    {
      "cell_type": "code",
      "source": [
        "# @title INICIALIZACIÓN\n",
        "# Verificar e instalar el paquete 'boto3'\n",
        "try:\n",
        "    import boto3\n",
        "except ImportError:\n",
        "    print(\"El paquete 'boto3' no está instalado. Procediendo con la instalación...\")\n",
        "    !pip install boto3\n",
        "    import boto3\n",
        "    print(\"El paquete 'boto3' ha sido instalado correctamente.\")\n",
        "from google.cloud import storage\n",
        "import os\n",
        "from google.colab import auth\n",
        "from google.colab import files\n",
        "\n",
        "\n",
        "# Autenticación para Google Cloud Storage\n",
        "auth.authenticate_user()"
      ],
      "metadata": {
        "id": "iNz4R5Yk9TM_"
      },
      "execution_count": null,
      "outputs": []
    },
    {
      "cell_type": "code",
      "execution_count": null,
      "metadata": {
        "id": "teLc0Ctz342h"
      },
      "outputs": [],
      "source": [
        "# @title s3_to_gcs_transfer_file()\n",
        "def s3_to_gcs_transfer_file(config):\n",
        "    \"\"\"\n",
        "    Transfiere uno o varios archivos desde un bucket S3 a un bucket de Google Cloud Storage.\n",
        "\n",
        "    :param config: Diccionario con las claves:\n",
        "        - s3_bucket_name: Nombre del bucket en S3.\n",
        "        - s3_folder_name: Carpeta dentro del bucket en S3.\n",
        "        - s3_file_name: Lista de nombres de archivos en el bucket S3.\n",
        "        - gcs_bucket_name: Nombre del bucket en Google Cloud Storage.\n",
        "        - gcs_folder_name: Carpeta dentro del bucket en Google Cloud Storage.\n",
        "    \"\"\"\n",
        "    s3_bucket_name = config['s3_bucket_name']\n",
        "    s3_folder_name = config['s3_folder_name']\n",
        "    s3_file_names = config['s3_file_name']\n",
        "    gcs_bucket_name = config['gcs_bucket_name']\n",
        "    gcs_folder_name = config['gcs_folder_name']\n",
        "\n",
        "    # Descargar y subir cada archivo\n",
        "    s3 = boto3.client('s3')\n",
        "    storage_client = storage.Client()\n",
        "    bucket = storage_client.bucket(gcs_bucket_name)\n",
        "\n",
        "    # Crear carpeta en GCS si no existe\n",
        "    if gcs_folder_name:\n",
        "        folder_blob = bucket.blob(f\"{gcs_folder_name}/\")\n",
        "        if not folder_blob.exists():\n",
        "            folder_blob.upload_from_string('')\n",
        "\n",
        "    for file_name in s3_file_names:\n",
        "        s3_key = f\"{s3_folder_name}/{file_name}\" if s3_folder_name else file_name\n",
        "        gcs_key = f\"{gcs_folder_name}/{file_name}\" if gcs_folder_name else file_name\n",
        "        temp_file_path = f\"/tmp/{file_name}\"  # Ruta temporal en el sistema local\n",
        "\n",
        "        # Descargar el archivo desde S3\n",
        "        try:\n",
        "            print(f\"Descargando {s3_key} desde el bucket {s3_bucket_name}...\")\n",
        "            s3.download_file(s3_bucket_name, s3_key, temp_file_path)\n",
        "            print(f\"Archivo descargado en {temp_file_path}\")\n",
        "        except Exception as e:\n",
        "            print(f\"Error al descargar el archivo {file_name} desde S3: {e}\")\n",
        "            continue\n",
        "\n",
        "        # Subir el archivo a Google Cloud Storage\n",
        "        try:\n",
        "            print(f\"Subiendo {gcs_key} al bucket {gcs_bucket_name}...\")\n",
        "            blob = bucket.blob(gcs_key)\n",
        "            blob.upload_from_filename(temp_file_path)\n",
        "            print(f\"Archivo subido a {gcs_bucket_name}/{gcs_key}\")\n",
        "        except Exception as e:\n",
        "            print(f\"Error al subir el archivo {file_name} a Google Cloud Storage: {e}\")\n",
        "        finally:\n",
        "            # Limpiar el archivo temporal\n",
        "            if os.path.exists(temp_file_path):\n",
        "                os.remove(temp_file_path)"
      ]
    },
    {
      "cell_type": "code",
      "source": [
        "# @title COPIADO DE S3 A GCS\n",
        "from google.colab import userdata\n",
        "AWS_ACCESS_KEY_ID = userdata.get('AWS_ACCESS_KEY_ID')\n",
        "AWS_SECRET_ACCESS_KEY = userdata.get('AWS_SECRET_ACCESS_KEY')\n",
        "\n",
        "s3_bucket_name = \"plataforma-alol\"          # @param {type:\"string\"}\n",
        "s3_folder_name = \"Contenidos/videos/correcciones\"  # @param {type:\"string\"}\n",
        "s3_file_name = [\"C3362490.mp4\"]  # @param {type:\"string\"}\n",
        "gcs_bucket_name = \"mocadi\"       # @param {type:\"string\"}\n",
        "gcs_folder_name = \"test\"    # @param {type:\"string\"}\n",
        "\n",
        "if __name__ == \"__main__\":\n",
        "    # Configura los valores según tu entorno\n",
        "    config = {\n",
        "        's3_bucket_name': s3_bucket_name,\n",
        "        's3_folder_name': s3_folder_name,\n",
        "        's3_file_name': s3_file_name,\n",
        "        'gcs_bucket_name': gcs_bucket_name,\n",
        "        'gcs_folder_name': gcs_folder_name\n",
        "    }\n",
        "\n",
        "    # Establecer credenciales de AWS mediante variables de entorno\n",
        "    os.environ['AWS_ACCESS_KEY_ID'] = AWS_ACCESS_KEY_ID\n",
        "    os.environ['AWS_SECRET_ACCESS_KEY'] = AWS_SECRET_ACCESS_KEY\n",
        "    os.environ['AWS_DEFAULT_REGION'] = 'eu-west-1'\n",
        "\n",
        "    # Ejecuta la transferencia\n",
        "    s3_to_gcs_transfer_file(config)\n"
      ],
      "metadata": {
        "colab": {
          "base_uri": "https://localhost:8080/"
        },
        "id": "9x7XWZb7FYFP",
        "outputId": "ab7b6806-0632-468a-8a49-73db2ffd21b0"
      },
      "execution_count": null,
      "outputs": [
        {
          "output_type": "stream",
          "name": "stdout",
          "text": [
            "Descargando Contenidos/videos/correcciones/C3362490.mp4 desde el bucket plataforma-alol...\n",
            "Archivo descargado en /tmp/C3362490.mp4\n",
            "Subiendo test/C3362490.mp4 al bucket mocadi...\n",
            "Archivo subido a mocadi/test/C3362490.mp4\n"
          ]
        }
      ]
    }
  ]
}